{
 "cells": [
  {
   "cell_type": "code",
   "execution_count": null,
   "id": "24f43048",
   "metadata": {},
   "outputs": [],
   "source": [
    "# Create new Pokemon\n",
    "\n",
    "from rdflib import Graph, Literal, BNode, Namespace\n",
    "from rdflib.namespace import FOAF, RDF\n",
    "\n",
    "g = Graph()\n",
    "# Friend of a Friend (FOAF) is an ontology describing people\n",
    "g.bind(\"foaf\", FOAF)\n",
    "\n",
    "pokedex = Namespace(\"https://michiganpython.org/pokedex/\")\n",
    "pikachu = pokedex.pikachu\n",
    "catezar = BNode()  # a GUID is generated\n",
    "\n",
    "name = Literal(\"Pikachu\")\n",
    "age = Literal(24)\n",
    "\n",
    "g.add((pikachu, RDF.type, pokedex.Pokemon))\n",
    "g.add((pikachu, FOAF.name, name))\n",
    "g.add((pikachu, FOAF.age, age))\n",
    "g.add((pikachu, FOAF.knows, catezar))\n",
    "g.add((catezar, RDF.type, pokedex.Pokemon))\n",
    "g.add((catezar, FOAF.name, Literal(\"Catezar\")))\n",
    "\n",
    "# Serialize rdf to Terse RDF Triple Language (Turtle)\n",
    "print(g.serialize())"
   ]
  },
  {
   "cell_type": "code",
   "execution_count": null,
   "id": "19e19058",
   "metadata": {},
   "outputs": [],
   "source": [
    "# Load a small rdf file in n-triples format\n",
    "from pprint import pprint\n",
    "\n",
    "path = \"demo.nt\"\n",
    "g = Graph()\n",
    "g.parse(path)\n",
    "print(len(g))\n",
    "\n",
    "for statement in g:\n",
    "    pprint(statement)"
   ]
  },
  {
   "cell_type": "code",
   "execution_count": null,
   "id": "f0c5b351",
   "metadata": {
    "scrolled": true
   },
   "outputs": [],
   "source": [
    "# Pokedex RDF graph loading in n-triples format\n",
    "from rdflib import Graph\n",
    "\n",
    "path = \"pokedex.nt\"\n",
    "g = Graph()\n",
    "g.parse(path)\n",
    "print(f\"rdflib Graph loaded successfully with {len(g)} triples\")"
   ]
  },
  {
   "cell_type": "code",
   "execution_count": null,
   "id": "8a70f0bd",
   "metadata": {},
   "outputs": [],
   "source": [
    "# Find a triple that represents the Bulbasaur label\n",
    "\n",
    "from rdflib import RDFS, URIRef\n",
    "\n",
    "sub_graph = Graph()\n",
    "bulbasaur = URIRef(\"http://pokedex.dataincubator.org/pokemon/1\")\n",
    "\n",
    "for s, p, o in g.triples((bulbasaur, RDFS.label, None)):\n",
    "    print(f\"{s} {p} {o}\")"
   ]
  },
  {
   "cell_type": "code",
   "execution_count": null,
   "id": "c1b4678c",
   "metadata": {},
   "outputs": [],
   "source": [
    "# Load triples related to the first 10 Pokemon\n",
    "\n",
    "sub_graph = Graph()\n",
    "pkm = Namespace(\"http://pokedex.dataincubator.org/pkm/\")\n",
    "poke = \"http://pokedex.dataincubator.org/pokemon/\"\n",
    "for num in range(1, 10):\n",
    "    pokemon = URIRef(f\"{poke}{num}\")\n",
    "    sub_graph += g.triples((pokemon, pkm.colour, None))\n",
    "    sub_graph += g.triples((pokemon, pkm.name, None))\n",
    "    sub_graph += g.triples((pokemon, pkm.type, None))\n",
    "    sub_graph += g.triples((pokemon, RDFS.label, None))\n",
    "print(f\"rdflib sub graph loaded successfully with {len(sub_graph)} triples\")"
   ]
  },
  {
   "cell_type": "code",
   "execution_count": null,
   "id": "3f13156b",
   "metadata": {},
   "outputs": [],
   "source": [
    "# Convert rdf graph to networkx graph\n",
    "\n",
    "from rdflib.extras.external_graph_libs import rdflib_to_networkx_graph\n",
    "\n",
    "nx_graph = rdflib_to_networkx_graph(g)\n",
    "print(f\"Networkx {nx_graph} loaded successfully\")"
   ]
  },
  {
   "cell_type": "code",
   "execution_count": null,
   "id": "296b8ff7",
   "metadata": {},
   "outputs": [],
   "source": [
    "# Load csv file with Pokemon types\n",
    "\n",
    "import pandas as pd\n",
    "\n",
    "df = pd.read_csv('pokemon-types.csv')\n",
    "df.head()"
   ]
  },
  {
   "cell_type": "code",
   "execution_count": null,
   "id": "a61970ef",
   "metadata": {},
   "outputs": [],
   "source": [
    "# Create networkx graph from Dataframe\n",
    "\n",
    "import networkx as nx\n",
    "\n",
    "nx_type1_graph = nx.from_pandas_edgelist(df, 'Name', 'Type1')\n",
    "filtered_df = df.dropna()\n",
    "nx_type2_graph = nx.from_pandas_edgelist(filtered_df, 'Name', 'Type2')\n",
    "nx_graph = nx.compose(nx_type1_graph, nx_type2_graph)\n",
    "nx.greedy_color(nx_graph)\n",
    "print(nx.info(nx_graph))"
   ]
  },
  {
   "cell_type": "code",
   "execution_count": null,
   "id": "473b0c08",
   "metadata": {
    "scrolled": true
   },
   "outputs": [],
   "source": [
    "from pyvis.network import Network\n",
    "\n",
    "nt = Network(\"800px\", \"100%\", notebook=True)\n",
    "nt.from_nx(nx_graph)\n",
    "nt.show_buttons(filter_=['physics'])\n",
    "nt.show(\"nx.html\")"
   ]
  }
 ],
 "metadata": {
  "kernelspec": {
   "display_name": "Python [conda env:pokedex2]",
   "language": "python",
   "name": "conda-env-pokedex2-py"
  },
  "language_info": {
   "codemirror_mode": {
    "name": "ipython",
    "version": 3
   },
   "file_extension": ".py",
   "mimetype": "text/x-python",
   "name": "python",
   "nbconvert_exporter": "python",
   "pygments_lexer": "ipython3",
   "version": "3.8.12"
  }
 },
 "nbformat": 4,
 "nbformat_minor": 5
}
